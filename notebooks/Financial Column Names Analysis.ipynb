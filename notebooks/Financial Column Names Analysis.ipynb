{
 "cells": [
  {
   "cell_type": "markdown",
   "id": "838e69d3",
   "metadata": {},
   "source": [
    "# Import Useful Libraries"
   ]
  },
  {
   "cell_type": "code",
   "execution_count": 1,
   "id": "b344ac1f",
   "metadata": {},
   "outputs": [],
   "source": [
    "%load_ext autoreload\n",
    "%autoreload 2\n",
    "\n",
    "from IPython.core.interactiveshell import InteractiveShell\n",
    "InteractiveShell.ast_node_interactivity = \"all\"\n",
    "\n",
    "from matplotlib import pyplot as plt\n",
    "plt.rcParams[\"figure.facecolor\"] = \"white\""
   ]
  },
  {
   "cell_type": "code",
   "execution_count": 2,
   "id": "0d5938e6",
   "metadata": {},
   "outputs": [],
   "source": [
    "import pandas as pd\n",
    "import numpy as np\n",
    "from difflib import SequenceMatcher, get_close_matches\n",
    "from Levenshtein import distance as levenshtein_distance\n",
    "from Levenshtein import jaro as jaro_distance\n",
    "from Levenshtein import jaro_winkler as jaro_winkler_distance\n",
    "from fastDamerauLevenshtein import damerauLevenshtein\n",
    "from fastDamerauLevenshtein import damerauLevenshtein\n",
    "from stringmatch.model import *"
   ]
  },
  {
   "cell_type": "markdown",
   "id": "a6ad2e1d",
   "metadata": {},
   "source": [
    "# Load Data"
   ]
  },
  {
   "cell_type": "code",
   "execution_count": 3,
   "id": "2e64eed3",
   "metadata": {},
   "outputs": [],
   "source": [
    "df = pd.read_excel('../resources/financial_accounts_column_matching.xlsx')\n",
    "df_ground_truth = pd.read_csv('../resources/columns_matched_reviewed_description.csv')"
   ]
  },
  {
   "cell_type": "code",
   "execution_count": 4,
   "id": "9f4337fd",
   "metadata": {},
   "outputs": [
    {
     "name": "stderr",
     "output_type": "stream",
     "text": [
      "/var/folders/nc/6fy7qrnj4t5gn35504q8q16m0000gq/T/ipykernel_79543/2347349279.py:1: FutureWarning: In a future version of pandas all arguments of StringMethods.split except for the argument 'pat' will be keyword-only.\n",
      "  df['Non-GPO'] = df['Non-GPO'].str.split('.', 2, expand=True)[2]\n"
     ]
    }
   ],
   "source": [
    "df['Non-GPO'] = df['Non-GPO'].str.split('.', 2, expand=True)[2]\n",
    "df['Non-GPO'][0] = 'id'\n",
    "df['Non-GPO'][1] = 'index'\n",
    "df['Non-GPO'][187] = 'processed_year'\n",
    "df['Non-GPO'][188] = 'processed_month'\n",
    "df['Non-GPO'][189] = 'processed_day'"
   ]
  },
  {
   "cell_type": "code",
   "execution_count": 5,
   "id": "d584be7a",
   "metadata": {},
   "outputs": [
    {
     "data": {
      "text/html": [
       "<div>\n",
       "<style scoped>\n",
       "    .dataframe tbody tr th:only-of-type {\n",
       "        vertical-align: middle;\n",
       "    }\n",
       "\n",
       "    .dataframe tbody tr th {\n",
       "        vertical-align: top;\n",
       "    }\n",
       "\n",
       "    .dataframe thead th {\n",
       "        text-align: right;\n",
       "    }\n",
       "</style>\n",
       "<table border=\"1\" class=\"dataframe\">\n",
       "  <thead>\n",
       "    <tr style=\"text-align: right;\">\n",
       "      <th></th>\n",
       "      <th>Non-GPO</th>\n",
       "      <th>GPO</th>\n",
       "    </tr>\n",
       "  </thead>\n",
       "  <tbody>\n",
       "    <tr>\n",
       "      <th>0</th>\n",
       "      <td>id</td>\n",
       "      <td>id</td>\n",
       "    </tr>\n",
       "    <tr>\n",
       "      <th>1</th>\n",
       "      <td>index</td>\n",
       "      <td>index</td>\n",
       "    </tr>\n",
       "    <tr>\n",
       "      <th>2</th>\n",
       "      <td>capemployed</td>\n",
       "      <td>financials.accounts.val.date_of_accounts</td>\n",
       "    </tr>\n",
       "    <tr>\n",
       "      <th>3</th>\n",
       "      <td>companyclass</td>\n",
       "      <td>financials.accounts.val.currency</td>\n",
       "    </tr>\n",
       "    <tr>\n",
       "      <th>4</th>\n",
       "      <td>consolidatedaccts</td>\n",
       "      <td>financials.accounts.val.currency_multiplier</td>\n",
       "    </tr>\n",
       "    <tr>\n",
       "      <th>...</th>\n",
       "      <td>...</td>\n",
       "      <td>...</td>\n",
       "    </tr>\n",
       "    <tr>\n",
       "      <th>185</th>\n",
       "      <td>trnvrestworld</td>\n",
       "      <td>NaN</td>\n",
       "    </tr>\n",
       "    <tr>\n",
       "      <th>186</th>\n",
       "      <td>discimpaircharges</td>\n",
       "      <td>NaN</td>\n",
       "    </tr>\n",
       "    <tr>\n",
       "      <th>187</th>\n",
       "      <td>processed_year</td>\n",
       "      <td>NaN</td>\n",
       "    </tr>\n",
       "    <tr>\n",
       "      <th>188</th>\n",
       "      <td>processed_month</td>\n",
       "      <td>NaN</td>\n",
       "    </tr>\n",
       "    <tr>\n",
       "      <th>189</th>\n",
       "      <td>processed_day</td>\n",
       "      <td>NaN</td>\n",
       "    </tr>\n",
       "  </tbody>\n",
       "</table>\n",
       "<p>190 rows × 2 columns</p>\n",
       "</div>"
      ],
      "text/plain": [
       "               Non-GPO                                          GPO\n",
       "0                   id                         id                  \n",
       "1                index                         index               \n",
       "2          capemployed     financials.accounts.val.date_of_accounts\n",
       "3         companyclass             financials.accounts.val.currency\n",
       "4    consolidatedaccts  financials.accounts.val.currency_multiplier\n",
       "..                 ...                                          ...\n",
       "185      trnvrestworld                                          NaN\n",
       "186  discimpaircharges                                          NaN\n",
       "187     processed_year                                          NaN\n",
       "188    processed_month                                          NaN\n",
       "189      processed_day                                          NaN\n",
       "\n",
       "[190 rows x 2 columns]"
      ]
     },
     "execution_count": 5,
     "metadata": {},
     "output_type": "execute_result"
    }
   ],
   "source": [
    "df"
   ]
  },
  {
   "cell_type": "code",
   "execution_count": 6,
   "id": "19a9c0ae",
   "metadata": {},
   "outputs": [],
   "source": [
    "df_ground_truth = df_ground_truth.loc[(df_ground_truth['GPO'] != '?') & (df_ground_truth['GPO'] != '__event_date')]"
   ]
  },
  {
   "cell_type": "code",
   "execution_count": 7,
   "id": "ad897a83",
   "metadata": {},
   "outputs": [
    {
     "data": {
      "text/html": [
       "<div>\n",
       "<style scoped>\n",
       "    .dataframe tbody tr th:only-of-type {\n",
       "        vertical-align: middle;\n",
       "    }\n",
       "\n",
       "    .dataframe tbody tr th {\n",
       "        vertical-align: top;\n",
       "    }\n",
       "\n",
       "    .dataframe thead th {\n",
       "        text-align: right;\n",
       "    }\n",
       "</style>\n",
       "<table border=\"1\" class=\"dataframe\">\n",
       "  <thead>\n",
       "    <tr style=\"text-align: right;\">\n",
       "      <th></th>\n",
       "      <th>Non-GPO</th>\n",
       "      <th>GPO</th>\n",
       "    </tr>\n",
       "  </thead>\n",
       "  <tbody>\n",
       "    <tr>\n",
       "      <th>15</th>\n",
       "      <td>dl12.companyname</td>\n",
       "      <td>commercial_name</td>\n",
       "    </tr>\n",
       "    <tr>\n",
       "      <th>16</th>\n",
       "      <td>dl12.datedissvd_dd</td>\n",
       "      <td>identification.dissolution_date</td>\n",
       "    </tr>\n",
       "    <tr>\n",
       "      <th>17</th>\n",
       "      <td>dl12.datedissvd_mm</td>\n",
       "      <td>identification.dissolution_date</td>\n",
       "    </tr>\n",
       "    <tr>\n",
       "      <th>18</th>\n",
       "      <td>dl12.datedissvd_yyyy</td>\n",
       "      <td>identification.dissolution_date</td>\n",
       "    </tr>\n",
       "    <tr>\n",
       "      <th>19</th>\n",
       "      <td>dl12.dateincorp_dd</td>\n",
       "      <td>identification.incorporation_date</td>\n",
       "    </tr>\n",
       "    <tr>\n",
       "      <th>...</th>\n",
       "      <td>...</td>\n",
       "      <td>...</td>\n",
       "    </tr>\n",
       "    <tr>\n",
       "      <th>803</th>\n",
       "      <td>dlb9.size_compgroupname</td>\n",
       "      <td>commercial_delphi_history.sectors.size_comp_gr...</td>\n",
       "    </tr>\n",
       "    <tr>\n",
       "      <th>804</th>\n",
       "      <td>dlb9.size_compsector</td>\n",
       "      <td>commercial_delphi_history.sectors.size_comp_gr...</td>\n",
       "    </tr>\n",
       "    <tr>\n",
       "      <th>805</th>\n",
       "      <td>dlb9.size_compsectornameend</td>\n",
       "      <td>commercial_delphi_history.sectors.size_comp_gr...</td>\n",
       "    </tr>\n",
       "    <tr>\n",
       "      <th>806</th>\n",
       "      <td>dlb9.size_compsectornamestart</td>\n",
       "      <td>commercial_delphi_history.sectors.size_comp_gr...</td>\n",
       "    </tr>\n",
       "    <tr>\n",
       "      <th>808</th>\n",
       "      <td>dm12.noccount</td>\n",
       "      <td>notice_of_correction.num_corrections</td>\n",
       "    </tr>\n",
       "  </tbody>\n",
       "</table>\n",
       "<p>587 rows × 2 columns</p>\n",
       "</div>"
      ],
      "text/plain": [
       "                           Non-GPO  \\\n",
       "15            dl12.companyname       \n",
       "16            dl12.datedissvd_dd     \n",
       "17            dl12.datedissvd_mm     \n",
       "18            dl12.datedissvd_yyyy   \n",
       "19            dl12.dateincorp_dd     \n",
       "..                             ...   \n",
       "803        dlb9.size_compgroupname   \n",
       "804           dlb9.size_compsector   \n",
       "805    dlb9.size_compsectornameend   \n",
       "806  dlb9.size_compsectornamestart   \n",
       "808           dm12.noccount          \n",
       "\n",
       "                                                   GPO  \n",
       "15                                     commercial_name  \n",
       "16                     identification.dissolution_date  \n",
       "17                     identification.dissolution_date  \n",
       "18                     identification.dissolution_date  \n",
       "19                   identification.incorporation_date  \n",
       "..                                                 ...  \n",
       "803  commercial_delphi_history.sectors.size_comp_gr...  \n",
       "804  commercial_delphi_history.sectors.size_comp_gr...  \n",
       "805  commercial_delphi_history.sectors.size_comp_gr...  \n",
       "806  commercial_delphi_history.sectors.size_comp_gr...  \n",
       "808               notice_of_correction.num_corrections  \n",
       "\n",
       "[587 rows x 2 columns]"
      ]
     },
     "execution_count": 7,
     "metadata": {},
     "output_type": "execute_result"
    }
   ],
   "source": [
    "df_ground_truth"
   ]
  },
  {
   "cell_type": "code",
   "execution_count": 8,
   "id": "572b5009",
   "metadata": {},
   "outputs": [
    {
     "data": {
      "text/plain": [
       "15                                       commercial_name\n",
       "16                       identification.dissolution_date\n",
       "17                       identification.dissolution_date\n",
       "18                       identification.dissolution_date\n",
       "19                     identification.incorporation_date\n",
       "                             ...                        \n",
       "803    commercial_delphi_history.sectors.size_comp_gr...\n",
       "804    commercial_delphi_history.sectors.size_comp_gr...\n",
       "805    commercial_delphi_history.sectors.size_comp_gr...\n",
       "806    commercial_delphi_history.sectors.size_comp_gr...\n",
       "808                 notice_of_correction.num_corrections\n",
       "Name: GPO, Length: 587, dtype: object"
      ]
     },
     "execution_count": 8,
     "metadata": {},
     "output_type": "execute_result"
    }
   ],
   "source": [
    "df_ground_truth.GPO"
   ]
  },
  {
   "cell_type": "markdown",
   "id": "d20f8b71",
   "metadata": {},
   "source": [
    "# Predicting with difflib"
   ]
  },
  {
   "cell_type": "code",
   "execution_count": 9,
   "id": "a8955bb4",
   "metadata": {},
   "outputs": [
    {
     "name": "stdout",
     "output_type": "stream",
     "text": [
      "Done!\n"
     ]
    }
   ],
   "source": [
    "matches = []\n",
    "\n",
    "for i, x in enumerate(df_ground_truth['Non-GPO'].dropna()):\n",
    "    match_list = get_close_matches(x, df_ground_truth['GPO'], cutoff=0.6)\n",
    "    if match_list:\n",
    "        matched = match_list[0]\n",
    "    else:\n",
    "        matched = ''\n",
    "    matches.append((x, matched))\n",
    "    \n",
    "print('Done!')"
   ]
  },
  {
   "cell_type": "code",
   "execution_count": 17,
   "id": "4b3bc96b",
   "metadata": {},
   "outputs": [],
   "source": [
    "# matches"
   ]
  },
  {
   "cell_type": "code",
   "execution_count": 11,
   "id": "c5ce6de6",
   "metadata": {},
   "outputs": [],
   "source": [
    "df_matches = pd.DataFrame(matches, columns=['Non-GPO', 'Estimate'])\n",
    "df_matches['similarity_score'] = df_matches.apply(lambda x: SequenceMatcher(None, x['Non-GPO'], x['Estimate']).ratio(), axis=1)"
   ]
  },
  {
   "cell_type": "code",
   "execution_count": 12,
   "id": "6d2276ea",
   "metadata": {},
   "outputs": [
    {
     "data": {
      "text/html": [
       "<div>\n",
       "<style scoped>\n",
       "    .dataframe tbody tr th:only-of-type {\n",
       "        vertical-align: middle;\n",
       "    }\n",
       "\n",
       "    .dataframe tbody tr th {\n",
       "        vertical-align: top;\n",
       "    }\n",
       "\n",
       "    .dataframe thead th {\n",
       "        text-align: right;\n",
       "    }\n",
       "</style>\n",
       "<table border=\"1\" class=\"dataframe\">\n",
       "  <thead>\n",
       "    <tr style=\"text-align: right;\">\n",
       "      <th></th>\n",
       "      <th>Non-GPO</th>\n",
       "      <th>Estimate</th>\n",
       "      <th>similarity_score</th>\n",
       "    </tr>\n",
       "  </thead>\n",
       "  <tbody>\n",
       "    <tr>\n",
       "      <th>0</th>\n",
       "      <td>dl12.companyname</td>\n",
       "      <td></td>\n",
       "      <td>0.0</td>\n",
       "    </tr>\n",
       "    <tr>\n",
       "      <th>1</th>\n",
       "      <td>dl12.datedissvd_dd</td>\n",
       "      <td></td>\n",
       "      <td>0.0</td>\n",
       "    </tr>\n",
       "    <tr>\n",
       "      <th>2</th>\n",
       "      <td>dl12.datedissvd_mm</td>\n",
       "      <td></td>\n",
       "      <td>0.0</td>\n",
       "    </tr>\n",
       "    <tr>\n",
       "      <th>3</th>\n",
       "      <td>dl12.datedissvd_yyyy</td>\n",
       "      <td></td>\n",
       "      <td>0.0</td>\n",
       "    </tr>\n",
       "    <tr>\n",
       "      <th>4</th>\n",
       "      <td>dl12.dateincorp_dd</td>\n",
       "      <td></td>\n",
       "      <td>0.0</td>\n",
       "    </tr>\n",
       "    <tr>\n",
       "      <th>...</th>\n",
       "      <td>...</td>\n",
       "      <td>...</td>\n",
       "      <td>...</td>\n",
       "    </tr>\n",
       "    <tr>\n",
       "      <th>582</th>\n",
       "      <td>dlb9.size_compgroupname</td>\n",
       "      <td></td>\n",
       "      <td>0.0</td>\n",
       "    </tr>\n",
       "    <tr>\n",
       "      <th>583</th>\n",
       "      <td>dlb9.size_compsector</td>\n",
       "      <td></td>\n",
       "      <td>0.0</td>\n",
       "    </tr>\n",
       "    <tr>\n",
       "      <th>584</th>\n",
       "      <td>dlb9.size_compsectornameend</td>\n",
       "      <td></td>\n",
       "      <td>0.0</td>\n",
       "    </tr>\n",
       "    <tr>\n",
       "      <th>585</th>\n",
       "      <td>dlb9.size_compsectornamestart</td>\n",
       "      <td></td>\n",
       "      <td>0.0</td>\n",
       "    </tr>\n",
       "    <tr>\n",
       "      <th>586</th>\n",
       "      <td>dm12.noccount</td>\n",
       "      <td></td>\n",
       "      <td>0.0</td>\n",
       "    </tr>\n",
       "  </tbody>\n",
       "</table>\n",
       "<p>587 rows × 3 columns</p>\n",
       "</div>"
      ],
      "text/plain": [
       "                           Non-GPO Estimate  similarity_score\n",
       "0             dl12.companyname                            0.0\n",
       "1             dl12.datedissvd_dd                          0.0\n",
       "2             dl12.datedissvd_mm                          0.0\n",
       "3             dl12.datedissvd_yyyy                        0.0\n",
       "4             dl12.dateincorp_dd                          0.0\n",
       "..                             ...      ...               ...\n",
       "582        dlb9.size_compgroupname                        0.0\n",
       "583           dlb9.size_compsector                        0.0\n",
       "584    dlb9.size_compsectornameend                        0.0\n",
       "585  dlb9.size_compsectornamestart                        0.0\n",
       "586           dm12.noccount                               0.0\n",
       "\n",
       "[587 rows x 3 columns]"
      ]
     },
     "execution_count": 12,
     "metadata": {},
     "output_type": "execute_result"
    }
   ],
   "source": [
    "df_matches"
   ]
  },
  {
   "cell_type": "code",
   "execution_count": 14,
   "id": "0a2bb263",
   "metadata": {},
   "outputs": [],
   "source": [
    "# df_athena_non_gpo.sort_values(by='similarity_score', ascending=False).to_csv('best_matches.csv', index=False)"
   ]
  },
  {
   "cell_type": "code",
   "execution_count": 15,
   "id": "7156c8c3",
   "metadata": {},
   "outputs": [],
   "source": [
    "df_matches['Target'] = df_ground_truth['GPO'].values"
   ]
  },
  {
   "cell_type": "code",
   "execution_count": 16,
   "id": "7c24fc08",
   "metadata": {},
   "outputs": [
    {
     "data": {
      "text/html": [
       "<div>\n",
       "<style scoped>\n",
       "    .dataframe tbody tr th:only-of-type {\n",
       "        vertical-align: middle;\n",
       "    }\n",
       "\n",
       "    .dataframe tbody tr th {\n",
       "        vertical-align: top;\n",
       "    }\n",
       "\n",
       "    .dataframe thead th {\n",
       "        text-align: right;\n",
       "    }\n",
       "</style>\n",
       "<table border=\"1\" class=\"dataframe\">\n",
       "  <thead>\n",
       "    <tr style=\"text-align: right;\">\n",
       "      <th></th>\n",
       "      <th>Non-GPO</th>\n",
       "      <th>Estimate</th>\n",
       "      <th>similarity_score</th>\n",
       "      <th>Target</th>\n",
       "    </tr>\n",
       "  </thead>\n",
       "  <tbody>\n",
       "    <tr>\n",
       "      <th>0</th>\n",
       "      <td>dl12.companyname</td>\n",
       "      <td></td>\n",
       "      <td>0.0</td>\n",
       "      <td>commercial_name</td>\n",
       "    </tr>\n",
       "    <tr>\n",
       "      <th>1</th>\n",
       "      <td>dl12.datedissvd_dd</td>\n",
       "      <td></td>\n",
       "      <td>0.0</td>\n",
       "      <td>identification.dissolution_date</td>\n",
       "    </tr>\n",
       "    <tr>\n",
       "      <th>2</th>\n",
       "      <td>dl12.datedissvd_mm</td>\n",
       "      <td></td>\n",
       "      <td>0.0</td>\n",
       "      <td>identification.dissolution_date</td>\n",
       "    </tr>\n",
       "    <tr>\n",
       "      <th>3</th>\n",
       "      <td>dl12.datedissvd_yyyy</td>\n",
       "      <td></td>\n",
       "      <td>0.0</td>\n",
       "      <td>identification.dissolution_date</td>\n",
       "    </tr>\n",
       "    <tr>\n",
       "      <th>4</th>\n",
       "      <td>dl12.dateincorp_dd</td>\n",
       "      <td></td>\n",
       "      <td>0.0</td>\n",
       "      <td>identification.incorporation_date</td>\n",
       "    </tr>\n",
       "    <tr>\n",
       "      <th>...</th>\n",
       "      <td>...</td>\n",
       "      <td>...</td>\n",
       "      <td>...</td>\n",
       "      <td>...</td>\n",
       "    </tr>\n",
       "    <tr>\n",
       "      <th>582</th>\n",
       "      <td>dlb9.size_compgroupname</td>\n",
       "      <td></td>\n",
       "      <td>0.0</td>\n",
       "      <td>commercial_delphi_history.sectors.size_comp_gr...</td>\n",
       "    </tr>\n",
       "    <tr>\n",
       "      <th>583</th>\n",
       "      <td>dlb9.size_compsector</td>\n",
       "      <td></td>\n",
       "      <td>0.0</td>\n",
       "      <td>commercial_delphi_history.sectors.size_comp_gr...</td>\n",
       "    </tr>\n",
       "    <tr>\n",
       "      <th>584</th>\n",
       "      <td>dlb9.size_compsectornameend</td>\n",
       "      <td></td>\n",
       "      <td>0.0</td>\n",
       "      <td>commercial_delphi_history.sectors.size_comp_gr...</td>\n",
       "    </tr>\n",
       "    <tr>\n",
       "      <th>585</th>\n",
       "      <td>dlb9.size_compsectornamestart</td>\n",
       "      <td></td>\n",
       "      <td>0.0</td>\n",
       "      <td>commercial_delphi_history.sectors.size_comp_gr...</td>\n",
       "    </tr>\n",
       "    <tr>\n",
       "      <th>586</th>\n",
       "      <td>dm12.noccount</td>\n",
       "      <td></td>\n",
       "      <td>0.0</td>\n",
       "      <td>notice_of_correction.num_corrections</td>\n",
       "    </tr>\n",
       "  </tbody>\n",
       "</table>\n",
       "<p>587 rows × 4 columns</p>\n",
       "</div>"
      ],
      "text/plain": [
       "                           Non-GPO Estimate  similarity_score  \\\n",
       "0             dl12.companyname                            0.0   \n",
       "1             dl12.datedissvd_dd                          0.0   \n",
       "2             dl12.datedissvd_mm                          0.0   \n",
       "3             dl12.datedissvd_yyyy                        0.0   \n",
       "4             dl12.dateincorp_dd                          0.0   \n",
       "..                             ...      ...               ...   \n",
       "582        dlb9.size_compgroupname                        0.0   \n",
       "583           dlb9.size_compsector                        0.0   \n",
       "584    dlb9.size_compsectornameend                        0.0   \n",
       "585  dlb9.size_compsectornamestart                        0.0   \n",
       "586           dm12.noccount                               0.0   \n",
       "\n",
       "                                                Target  \n",
       "0                                      commercial_name  \n",
       "1                      identification.dissolution_date  \n",
       "2                      identification.dissolution_date  \n",
       "3                      identification.dissolution_date  \n",
       "4                    identification.incorporation_date  \n",
       "..                                                 ...  \n",
       "582  commercial_delphi_history.sectors.size_comp_gr...  \n",
       "583  commercial_delphi_history.sectors.size_comp_gr...  \n",
       "584  commercial_delphi_history.sectors.size_comp_gr...  \n",
       "585  commercial_delphi_history.sectors.size_comp_gr...  \n",
       "586               notice_of_correction.num_corrections  \n",
       "\n",
       "[587 rows x 4 columns]"
      ]
     },
     "execution_count": 16,
     "metadata": {},
     "output_type": "execute_result"
    }
   ],
   "source": [
    "df_matches"
   ]
  },
  {
   "cell_type": "code",
   "execution_count": 17,
   "id": "a1a0b3bb",
   "metadata": {},
   "outputs": [
    {
     "name": "stdout",
     "output_type": "stream",
     "text": [
      "Number of unique values in Estimate: 46\n",
      "Number of unique values in Target: 551\n"
     ]
    }
   ],
   "source": [
    "print('Number of unique values in Estimate:', len(set(df_matches['Estimate'])))\n",
    "print('Number of unique values in Target:', len(set(df_matches['Target'])))"
   ]
  },
  {
   "cell_type": "code",
   "execution_count": 18,
   "id": "814b5b7c",
   "metadata": {},
   "outputs": [
    {
     "name": "stdout",
     "output_type": "stream",
     "text": [
      "Accuracy with difflib: 7.3%\n"
     ]
    }
   ],
   "source": [
    "accuracy_difflib = (df_matches['Target'] == df_matches['Estimate']).sum() / df_matches['Target'].shape[0]\n",
    "print('Accuracy with difflib: {:.1%}'.format(accuracy_difflib))"
   ]
  },
  {
   "cell_type": "markdown",
   "id": "c3f7665b",
   "metadata": {},
   "source": [
    "## Using Levenshtein Distance"
   ]
  },
  {
   "cell_type": "code",
   "execution_count": 16,
   "id": "b2d21ad9",
   "metadata": {},
   "outputs": [],
   "source": [
    "weights_score = cross_val_weights(df_ground_truth['Non-GPO'].dropna(),\\\n",
    "                                  df_ground_truth['GPO'],\\\n",
    "                                  df_ground_truth['GPO'],\\\n",
    "                                  algorithm='levenshtein', \\\n",
    "                                  max_weights=(10, 10, 10),\\\n",
    "                                  verbose=True)\n"
   ]
  },
  {
   "cell_type": "code",
   "execution_count": 26,
   "id": "8c901d5b",
   "metadata": {},
   "outputs": [],
   "source": [
    "df_weights_score = pd.DataFrame(weights_score, columns=['weights', 'score']).sort_values(by='score', ascending=False)"
   ]
  },
  {
   "cell_type": "code",
   "execution_count": 27,
   "id": "b833a652",
   "metadata": {},
   "outputs": [
    {
     "data": {
      "text/html": [
       "<div>\n",
       "<style scoped>\n",
       "    .dataframe tbody tr th:only-of-type {\n",
       "        vertical-align: middle;\n",
       "    }\n",
       "\n",
       "    .dataframe tbody tr th {\n",
       "        vertical-align: top;\n",
       "    }\n",
       "\n",
       "    .dataframe thead th {\n",
       "        text-align: right;\n",
       "    }\n",
       "</style>\n",
       "<table border=\"1\" class=\"dataframe\">\n",
       "  <thead>\n",
       "    <tr style=\"text-align: right;\">\n",
       "      <th></th>\n",
       "      <th>weights</th>\n",
       "      <th>score</th>\n",
       "    </tr>\n",
       "  </thead>\n",
       "  <tbody>\n",
       "    <tr>\n",
       "      <th>89</th>\n",
       "      <td>(1, 9, 10)</td>\n",
       "      <td>0.587734</td>\n",
       "    </tr>\n",
       "    <tr>\n",
       "      <th>78</th>\n",
       "      <td>(1, 8, 9)</td>\n",
       "      <td>0.584327</td>\n",
       "    </tr>\n",
       "    <tr>\n",
       "      <th>79</th>\n",
       "      <td>(1, 8, 10)</td>\n",
       "      <td>0.584327</td>\n",
       "    </tr>\n",
       "    <tr>\n",
       "      <th>88</th>\n",
       "      <td>(1, 9, 9)</td>\n",
       "      <td>0.580920</td>\n",
       "    </tr>\n",
       "    <tr>\n",
       "      <th>99</th>\n",
       "      <td>(1, 10, 10)</td>\n",
       "      <td>0.579216</td>\n",
       "    </tr>\n",
       "    <tr>\n",
       "      <th>...</th>\n",
       "      <td>...</td>\n",
       "      <td>...</td>\n",
       "    </tr>\n",
       "    <tr>\n",
       "      <th>603</th>\n",
       "      <td>(7, 1, 4)</td>\n",
       "      <td>0.001704</td>\n",
       "    </tr>\n",
       "    <tr>\n",
       "      <th>703</th>\n",
       "      <td>(8, 1, 4)</td>\n",
       "      <td>0.001704</td>\n",
       "    </tr>\n",
       "    <tr>\n",
       "      <th>904</th>\n",
       "      <td>(10, 1, 5)</td>\n",
       "      <td>0.001704</td>\n",
       "    </tr>\n",
       "    <tr>\n",
       "      <th>903</th>\n",
       "      <td>(10, 1, 4)</td>\n",
       "      <td>0.001704</td>\n",
       "    </tr>\n",
       "    <tr>\n",
       "      <th>704</th>\n",
       "      <td>(8, 1, 5)</td>\n",
       "      <td>0.001704</td>\n",
       "    </tr>\n",
       "  </tbody>\n",
       "</table>\n",
       "<p>1000 rows × 2 columns</p>\n",
       "</div>"
      ],
      "text/plain": [
       "         weights     score\n",
       "89    (1, 9, 10)  0.587734\n",
       "78     (1, 8, 9)  0.584327\n",
       "79    (1, 8, 10)  0.584327\n",
       "88     (1, 9, 9)  0.580920\n",
       "99   (1, 10, 10)  0.579216\n",
       "..           ...       ...\n",
       "603    (7, 1, 4)  0.001704\n",
       "703    (8, 1, 4)  0.001704\n",
       "904   (10, 1, 5)  0.001704\n",
       "903   (10, 1, 4)  0.001704\n",
       "704    (8, 1, 5)  0.001704\n",
       "\n",
       "[1000 rows x 2 columns]"
      ]
     },
     "execution_count": 27,
     "metadata": {},
     "output_type": "execute_result"
    }
   ],
   "source": [
    "df_weights_score"
   ]
  },
  {
   "cell_type": "code",
   "execution_count": 28,
   "id": "d4cb233b",
   "metadata": {},
   "outputs": [],
   "source": [
    "df_weights_score.to_csv('../resources/weights/df_weights_score_lev.csv', index=False)"
   ]
  },
  {
   "cell_type": "markdown",
   "id": "2f05edec",
   "metadata": {},
   "source": [
    "# Using Damerau-Levenshtein Distance"
   ]
  },
  {
   "cell_type": "code",
   "execution_count": null,
   "id": "bc4e0d1f",
   "metadata": {},
   "outputs": [],
   "source": [
    "weights_score = cross_val_weights(df_ground_truth['Non-GPO'].dropna(),\\\n",
    "                                  df_ground_truth['GPO'],\\\n",
    "                                  df_ground_truth['GPO'],\\\n",
    "                                  algorithm='damerau-levenshtein', \\\n",
    "                                  max_weights=(10, 10, 10, 10),\\\n",
    "                                  verbose=True)"
   ]
  },
  {
   "cell_type": "code",
   "execution_count": null,
   "id": "0b011cae",
   "metadata": {},
   "outputs": [],
   "source": [
    "df_weights_score = pd.DataFrame(weights_score, columns=['weights', 'score']).sort_values(by='score', ascending=False)"
   ]
  },
  {
   "cell_type": "code",
   "execution_count": null,
   "id": "09a04014",
   "metadata": {},
   "outputs": [],
   "source": [
    "df_weights_score"
   ]
  },
  {
   "cell_type": "code",
   "execution_count": null,
   "id": "6f5ef94e",
   "metadata": {},
   "outputs": [],
   "source": [
    "df_weights_score.to_csv('../resources/weights/df_weights_score_dam_lev.csv', index=False)"
   ]
  },
  {
   "cell_type": "markdown",
   "id": "69fab3eb",
   "metadata": {},
   "source": [
    "# Using Jaro Distance"
   ]
  },
  {
   "cell_type": "code",
   "execution_count": 34,
   "id": "b46154a9",
   "metadata": {},
   "outputs": [
    {
     "name": "stdout",
     "output_type": "stream",
     "text": [
      "9.9%\n"
     ]
    }
   ],
   "source": [
    "weights_score = cross_val_weights(df_ground_truth['Non-GPO'].dropna(),\\\n",
    "                                  df_ground_truth['GPO'],\\\n",
    "                                  df_ground_truth['GPO'],\\\n",
    "                                  algorithm='jaro', \\\n",
    "                                  max_weights=0.0,\\\n",
    "                                  verbose=True)"
   ]
  },
  {
   "cell_type": "code",
   "execution_count": 36,
   "id": "a901f2d4",
   "metadata": {},
   "outputs": [],
   "source": [
    "df_weights_score = pd.DataFrame([weights_score], columns=['score']).sort_values(by='score', ascending=False)"
   ]
  },
  {
   "cell_type": "code",
   "execution_count": 37,
   "id": "a477e5d0",
   "metadata": {},
   "outputs": [
    {
     "data": {
      "text/html": [
       "<div>\n",
       "<style scoped>\n",
       "    .dataframe tbody tr th:only-of-type {\n",
       "        vertical-align: middle;\n",
       "    }\n",
       "\n",
       "    .dataframe tbody tr th {\n",
       "        vertical-align: top;\n",
       "    }\n",
       "\n",
       "    .dataframe thead th {\n",
       "        text-align: right;\n",
       "    }\n",
       "</style>\n",
       "<table border=\"1\" class=\"dataframe\">\n",
       "  <thead>\n",
       "    <tr style=\"text-align: right;\">\n",
       "      <th></th>\n",
       "      <th>score</th>\n",
       "    </tr>\n",
       "  </thead>\n",
       "  <tbody>\n",
       "    <tr>\n",
       "      <th>0</th>\n",
       "      <td>0.098807</td>\n",
       "    </tr>\n",
       "  </tbody>\n",
       "</table>\n",
       "</div>"
      ],
      "text/plain": [
       "      score\n",
       "0  0.098807"
      ]
     },
     "execution_count": 37,
     "metadata": {},
     "output_type": "execute_result"
    }
   ],
   "source": [
    "df_weights_score"
   ]
  },
  {
   "cell_type": "code",
   "execution_count": 38,
   "id": "88a204a8",
   "metadata": {},
   "outputs": [],
   "source": [
    "df_weights_score.to_csv('../resources/weights/df_weights_score_jaro.csv', index=False)"
   ]
  },
  {
   "cell_type": "markdown",
   "id": "3174a681",
   "metadata": {},
   "source": [
    "# Using Jaro-Winkler Distance"
   ]
  },
  {
   "cell_type": "code",
   "execution_count": 10,
   "id": "8aee8925",
   "metadata": {},
   "outputs": [
    {
     "name": "stdout",
     "output_type": "stream",
     "text": [
      "0.0: 9.9%\n",
      "0.010101010101010102: 9.9%\n",
      "0.020202020202020204: 9.9%\n",
      "0.030303030303030304: 9.9%\n",
      "0.04040404040404041: 9.9%\n",
      "0.05050505050505051: 9.9%\n",
      "0.06060606060606061: 9.9%\n",
      "0.07070707070707072: 9.9%\n",
      "0.08080808080808081: 9.9%\n",
      "0.09090909090909091: 9.9%\n",
      "0.10101010101010102: 9.9%\n",
      "0.11111111111111112: 9.9%\n",
      "0.12121212121212122: 9.9%\n",
      "0.13131313131313133: 9.9%\n",
      "0.14141414141414144: 9.9%\n",
      "0.15151515151515152: 9.9%\n",
      "0.16161616161616163: 9.9%\n",
      "0.17171717171717174: 9.9%\n",
      "0.18181818181818182: 9.9%\n",
      "0.19191919191919193: 9.9%\n",
      "0.20202020202020204: 9.9%\n",
      "0.21212121212121213: 9.9%\n",
      "0.22222222222222224: 9.9%\n",
      "0.23232323232323235: 9.9%\n",
      "0.24242424242424243: 9.9%\n",
      "0.25252525252525254: 9.9%\n",
      "0.26262626262626265: 9.9%\n",
      "0.27272727272727276: 9.9%\n",
      "0.2828282828282829: 9.9%\n",
      "0.29292929292929293: 9.9%\n",
      "0.30303030303030304: 9.9%\n",
      "0.31313131313131315: 9.9%\n",
      "0.32323232323232326: 9.9%\n",
      "0.33333333333333337: 9.9%\n",
      "0.3434343434343435: 9.9%\n",
      "0.3535353535353536: 9.9%\n",
      "0.36363636363636365: 9.9%\n",
      "0.37373737373737376: 9.9%\n",
      "0.38383838383838387: 9.9%\n",
      "0.393939393939394: 9.9%\n",
      "0.4040404040404041: 9.9%\n",
      "0.4141414141414142: 9.9%\n",
      "0.42424242424242425: 9.9%\n",
      "0.43434343434343436: 9.9%\n",
      "0.4444444444444445: 9.9%\n",
      "0.4545454545454546: 9.9%\n",
      "0.4646464646464647: 9.9%\n",
      "0.4747474747474748: 9.9%\n",
      "0.48484848484848486: 9.9%\n",
      "0.494949494949495: 9.9%\n",
      "0.5050505050505051: 9.9%\n",
      "0.5151515151515152: 9.9%\n",
      "0.5252525252525253: 9.9%\n",
      "0.5353535353535354: 9.9%\n",
      "0.5454545454545455: 9.9%\n",
      "0.5555555555555556: 9.9%\n",
      "0.5656565656565657: 9.9%\n",
      "0.5757575757575758: 9.9%\n",
      "0.5858585858585859: 9.9%\n",
      "0.595959595959596: 9.9%\n",
      "0.6060606060606061: 9.9%\n",
      "0.6161616161616162: 9.9%\n",
      "0.6262626262626263: 9.9%\n",
      "0.6363636363636365: 9.9%\n",
      "0.6464646464646465: 9.9%\n",
      "0.6565656565656566: 9.9%\n",
      "0.6666666666666667: 9.9%\n",
      "0.6767676767676768: 9.9%\n",
      "0.686868686868687: 9.9%\n",
      "0.696969696969697: 9.9%\n",
      "0.7070707070707072: 9.9%\n",
      "0.7171717171717172: 9.9%\n",
      "0.7272727272727273: 9.9%\n",
      "0.7373737373737375: 9.9%\n",
      "0.7474747474747475: 9.9%\n",
      "0.7575757575757577: 9.9%\n",
      "0.7676767676767677: 9.9%\n",
      "0.7777777777777778: 9.9%\n",
      "0.787878787878788: 9.9%\n",
      "0.797979797979798: 9.9%\n",
      "0.8080808080808082: 9.9%\n",
      "0.8181818181818182: 9.9%\n",
      "0.8282828282828284: 9.9%\n",
      "0.8383838383838385: 9.9%\n",
      "0.8484848484848485: 9.9%\n",
      "0.8585858585858587: 9.9%\n",
      "0.8686868686868687: 9.9%\n",
      "0.8787878787878789: 9.9%\n",
      "0.888888888888889: 9.9%\n",
      "0.8989898989898991: 9.9%\n",
      "0.9090909090909092: 9.9%\n",
      "0.9191919191919192: 9.9%\n",
      "0.9292929292929294: 9.9%\n",
      "0.9393939393939394: 9.9%\n",
      "0.9494949494949496: 9.9%\n",
      "0.9595959595959597: 9.9%\n",
      "0.9696969696969697: 9.9%\n",
      "0.9797979797979799: 9.9%\n",
      "0.98989898989899: 9.9%\n",
      "1.0: 9.9%\n"
     ]
    }
   ],
   "source": [
    "weights_score = cross_val_weights(df_ground_truth['Non-GPO'].dropna(),\\\n",
    "                                  df_ground_truth['GPO'],\\\n",
    "                                  df_ground_truth['GPO'],\\\n",
    "                                  algorithm='jaro-winkler', \\\n",
    "                                  max_weights=np.linspace(0, 1, 100),\\\n",
    "                                  verbose=True)"
   ]
  },
  {
   "cell_type": "code",
   "execution_count": 13,
   "id": "1a23daeb",
   "metadata": {},
   "outputs": [],
   "source": [
    "df_weights_score = pd.DataFrame(weights_score, columns=['weights', 'score']).sort_values(by='score', ascending=False)"
   ]
  },
  {
   "cell_type": "code",
   "execution_count": 14,
   "id": "6fa67b05",
   "metadata": {},
   "outputs": [
    {
     "data": {
      "text/html": [
       "<div>\n",
       "<style scoped>\n",
       "    .dataframe tbody tr th:only-of-type {\n",
       "        vertical-align: middle;\n",
       "    }\n",
       "\n",
       "    .dataframe tbody tr th {\n",
       "        vertical-align: top;\n",
       "    }\n",
       "\n",
       "    .dataframe thead th {\n",
       "        text-align: right;\n",
       "    }\n",
       "</style>\n",
       "<table border=\"1\" class=\"dataframe\">\n",
       "  <thead>\n",
       "    <tr style=\"text-align: right;\">\n",
       "      <th></th>\n",
       "      <th>weights</th>\n",
       "      <th>score</th>\n",
       "    </tr>\n",
       "  </thead>\n",
       "  <tbody>\n",
       "    <tr>\n",
       "      <th>0</th>\n",
       "      <td>0.000000</td>\n",
       "      <td>0.098807</td>\n",
       "    </tr>\n",
       "    <tr>\n",
       "      <th>63</th>\n",
       "      <td>0.636364</td>\n",
       "      <td>0.098807</td>\n",
       "    </tr>\n",
       "    <tr>\n",
       "      <th>73</th>\n",
       "      <td>0.737374</td>\n",
       "      <td>0.098807</td>\n",
       "    </tr>\n",
       "    <tr>\n",
       "      <th>72</th>\n",
       "      <td>0.727273</td>\n",
       "      <td>0.098807</td>\n",
       "    </tr>\n",
       "    <tr>\n",
       "      <th>71</th>\n",
       "      <td>0.717172</td>\n",
       "      <td>0.098807</td>\n",
       "    </tr>\n",
       "    <tr>\n",
       "      <th>...</th>\n",
       "      <td>...</td>\n",
       "      <td>...</td>\n",
       "    </tr>\n",
       "    <tr>\n",
       "      <th>30</th>\n",
       "      <td>0.303030</td>\n",
       "      <td>0.098807</td>\n",
       "    </tr>\n",
       "    <tr>\n",
       "      <th>29</th>\n",
       "      <td>0.292929</td>\n",
       "      <td>0.098807</td>\n",
       "    </tr>\n",
       "    <tr>\n",
       "      <th>28</th>\n",
       "      <td>0.282828</td>\n",
       "      <td>0.098807</td>\n",
       "    </tr>\n",
       "    <tr>\n",
       "      <th>27</th>\n",
       "      <td>0.272727</td>\n",
       "      <td>0.098807</td>\n",
       "    </tr>\n",
       "    <tr>\n",
       "      <th>99</th>\n",
       "      <td>1.000000</td>\n",
       "      <td>0.098807</td>\n",
       "    </tr>\n",
       "  </tbody>\n",
       "</table>\n",
       "<p>100 rows × 2 columns</p>\n",
       "</div>"
      ],
      "text/plain": [
       "     weights     score\n",
       "0   0.000000  0.098807\n",
       "63  0.636364  0.098807\n",
       "73  0.737374  0.098807\n",
       "72  0.727273  0.098807\n",
       "71  0.717172  0.098807\n",
       "..       ...       ...\n",
       "30  0.303030  0.098807\n",
       "29  0.292929  0.098807\n",
       "28  0.282828  0.098807\n",
       "27  0.272727  0.098807\n",
       "99  1.000000  0.098807\n",
       "\n",
       "[100 rows x 2 columns]"
      ]
     },
     "execution_count": 14,
     "metadata": {},
     "output_type": "execute_result"
    }
   ],
   "source": [
    "df_weights_score"
   ]
  },
  {
   "cell_type": "code",
   "execution_count": 15,
   "id": "e7f5477c",
   "metadata": {},
   "outputs": [],
   "source": [
    "df_weights_score.to_csv('../resources/weights/df_weights_score_jaro_winkler.csv', index=False)"
   ]
  },
  {
   "cell_type": "markdown",
   "id": "f2cd41d1",
   "metadata": {},
   "source": [
    "# Using Jaccard Simlarity\n",
    "### DO NOT USE"
   ]
  },
  {
   "cell_type": "code",
   "execution_count": null,
   "id": "27d36465",
   "metadata": {},
   "outputs": [],
   "source": [
    "# # def jaccard_similarity(list1, list2):\n",
    "# #     intersection = len(list(set(list1).intersection(list2)))\n",
    "# #     union = (len(set(list1)) + len(set(list2))) - intersection\n",
    "# #     return float(intersection) / union\n",
    "\n",
    "# def calc_jaccard_similarity(string1, string2):\n",
    "#     '''This function calculates the Jaccard similarity between two strings'''\n",
    "#     # Jaccard similarity = A intersect B / A Union B\n",
    "#     #                    = A intersect B / (A + B) - A intersect B\n",
    "#     s1 = string1#.split()\n",
    "#     s2 = string2#.split()\n",
    "#     intersection = len(set(s1).intersection(set(s2)))\n",
    "#     print('intersection:', intersection)\n",
    "#     union = len(set(s1)) + len(set(s2)) - intersection\n",
    "#     print('union:', union)\n",
    "#     return float(intersection) / union"
   ]
  },
  {
   "cell_type": "code",
   "execution_count": null,
   "id": "074ddfe1",
   "metadata": {},
   "outputs": [],
   "source": [
    "# calc_jaccard_similarity('dl13.issuedcapcurr', 'dl13.identification.issued_capital')"
   ]
  },
  {
   "cell_type": "code",
   "execution_count": null,
   "id": "25265b43",
   "metadata": {},
   "outputs": [],
   "source": [
    "# # s1 = set('dl13.issuedcapcurr')\n",
    "# s2 = set('dl13.identification.issued_capital')"
   ]
  },
  {
   "cell_type": "code",
   "execution_count": 23,
   "id": "8ee35c7b",
   "metadata": {},
   "outputs": [
    {
     "data": {
      "text/plain": [
       "False"
      ]
     },
     "execution_count": 23,
     "metadata": {},
     "output_type": "execute_result"
    }
   ],
   "source": [
    "type(np.linspace(0, 1, 1000)) == np.array"
   ]
  },
  {
   "cell_type": "code",
   "execution_count": null,
   "id": "82b1dee6",
   "metadata": {},
   "outputs": [],
   "source": []
  }
 ],
 "metadata": {
  "kernelspec": {
   "display_name": "Python 3.10.8 ('stringmatch_env')",
   "language": "python",
   "name": "python3"
  },
  "language_info": {
   "codemirror_mode": {
    "name": "ipython",
    "version": 3
   },
   "file_extension": ".py",
   "mimetype": "text/x-python",
   "name": "python",
   "nbconvert_exporter": "python",
   "pygments_lexer": "ipython3",
   "version": "3.10.8"
  },
  "vscode": {
   "interpreter": {
    "hash": "667ca4fd7bf2a22a76aed7442fcab7a5a1566ae741cad5a5b88251ea8d3f8d8a"
   }
  }
 },
 "nbformat": 4,
 "nbformat_minor": 5
}
